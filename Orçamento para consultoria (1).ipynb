{
 "cells": [
  {
   "cell_type": "markdown",
   "id": "41cb6e5a",
   "metadata": {},
   "source": [
    "# Entrada de dados\n"
   ]
  },
  {
   "cell_type": "code",
   "execution_count": null,
   "id": "0b69878f",
   "metadata": {
    "scrolled": false
   },
   "outputs": [],
   "source": [
    "input(\"Digite a descrição do projeto:  \")\n",
    "input(\"Digite o total de horas estimadas:  \")\n",
    "input(\"Digite o valor da hora trabalhada:  \")\n",
    "input(\"Digite o prazo estimado:  \")"
   ]
  },
  {
   "cell_type": "code",
   "execution_count": null,
   "id": "c0d029d4",
   "metadata": {},
   "outputs": [],
   "source": [
    "!pip install fpdf"
   ]
  },
  {
   "cell_type": "markdown",
   "id": "23ac7199",
   "metadata": {},
   "source": [
    "# Guardando informações do usuário"
   ]
  },
  {
   "cell_type": "code",
   "execution_count": null,
   "id": "5e56d3ef",
   "metadata": {},
   "outputs": [],
   "source": [
    "projeto = input(\"Digite a descrição do projeto:  \")\n",
    "horas_estimadas = input(\"Digite o total de hoas estimadas:  \")\n",
    "valor_hora = input(\"Digite o valor da hora trabalhada:  \")\n",
    "prazo = input(\"Digite o prazo estimado:  \")\n",
    "valor_total = int(horas_estimadas) * int(valor_hora)\n",
    "print(valor_total)\n"
   ]
  },
  {
   "cell_type": "code",
   "execution_count": null,
   "id": "515575c2",
   "metadata": {},
   "outputs": [],
   "source": [
    "from fpdf import FPDF\n"
   ]
  },
  {
   "cell_type": "code",
   "execution_count": 1,
   "id": "ca98b291",
   "metadata": {},
   "outputs": [
    {
     "name": "stdout",
     "output_type": "stream",
     "text": [
      "Digite a descrição do projeto:  python\n",
      "Digite o total de hoas estimadas:  60\n",
      "Digite o valor da hora trabalhada:  120\n",
      "Digite o prazo estimado:  2 meses\n",
      "7200\n",
      "Orçamento gerado com sucesso\n"
     ]
    }
   ],
   "source": [
    "from fpdf import FPDF\n",
    "\n",
    "projeto = input(\"Digite a descrição do projeto:  \")\n",
    "horas_estimadas = input(\"Digite o total de hoas estimadas:  \")\n",
    "valor_hora = input(\"Digite o valor da hora trabalhada:  \")\n",
    "prazo = input(\"Digite o prazo estimado:  \")\n",
    "valor_total = int(horas_estimadas) * int(valor_hora)\n",
    "print(valor_total)\n",
    "\n",
    "pdf = FPDF()\n",
    "\n",
    "pdf.add_page()\n",
    "pdf.set_font(\"Arial\")\n",
    "\n",
    "pdf.image(\"template.png\" , x=0, y=0)\n",
    "pdf.text(115, 145, projeto)\n",
    "pdf.text(115, 160, horas_estimadas)\n",
    "pdf.text(115, 175, valor_hora)\n",
    "pdf.text(115, 190, prazo)\n",
    "pdf.text(115, 205, str(valor_total))\n",
    "\n",
    "pdf.output(\"Orçamento.pdf\")\n",
    "print(\"Orçamento gerado com sucesso\")"
   ]
  },
  {
   "cell_type": "code",
   "execution_count": null,
   "id": "71518803",
   "metadata": {},
   "outputs": [],
   "source": []
  },
  {
   "cell_type": "code",
   "execution_count": null,
   "id": "1b7bfb5b",
   "metadata": {},
   "outputs": [],
   "source": []
  },
  {
   "cell_type": "code",
   "execution_count": null,
   "id": "bd1acb64",
   "metadata": {},
   "outputs": [],
   "source": []
  },
  {
   "cell_type": "code",
   "execution_count": null,
   "id": "e46b0c6d",
   "metadata": {},
   "outputs": [],
   "source": []
  },
  {
   "cell_type": "code",
   "execution_count": null,
   "id": "294ddc94",
   "metadata": {},
   "outputs": [],
   "source": []
  },
  {
   "cell_type": "code",
   "execution_count": null,
   "id": "5bce3236",
   "metadata": {},
   "outputs": [],
   "source": []
  }
 ],
 "metadata": {
  "kernelspec": {
   "display_name": "Python 3 (ipykernel)",
   "language": "python",
   "name": "python3"
  },
  "language_info": {
   "codemirror_mode": {
    "name": "ipython",
    "version": 3
   },
   "file_extension": ".py",
   "mimetype": "text/x-python",
   "name": "python",
   "nbconvert_exporter": "python",
   "pygments_lexer": "ipython3",
   "version": "3.9.13"
  }
 },
 "nbformat": 4,
 "nbformat_minor": 5
}
